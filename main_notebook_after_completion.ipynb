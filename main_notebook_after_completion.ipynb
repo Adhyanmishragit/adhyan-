{
  "nbformat": 4,
  "nbformat_minor": 0,
  "metadata": {
    "colab": {
      "provenance": [],
      "authorship_tag": "ABX9TyPunOV1wF/oTqDYnt2+fM0F",
      "include_colab_link": true
    },
    "kernelspec": {
      "name": "python3",
      "display_name": "Python 3"
    },
    "language_info": {
      "name": "python"
    }
  },
  "cells": [
    {
      "cell_type": "markdown",
      "metadata": {
        "id": "view-in-github",
        "colab_type": "text"
      },
      "source": [
        "<a href=\"https://colab.research.google.com/github/Adhyanmishragit/adhyan-/blob/main/main_notebook_after_completion.ipynb\" target=\"_parent\"><img src=\"https://colab.research.google.com/assets/colab-badge.svg\" alt=\"Open In Colab\"/></a>"
      ]
    },
    {
      "cell_type": "code",
      "execution_count": null,
      "metadata": {
        "id": "Kar0cPJIFqhO",
        "colab": {
          "base_uri": "https://localhost:8080/"
        },
        "outputId": "3c88fd2f-b489-433d-c284-78a2be6b6154"
      },
      "outputs": [
        {
          "output_type": "stream",
          "name": "stdout",
          "text": [
            "enter a number:22\n",
            "enter a second number:22\n",
            "44\n"
          ]
        }
      ],
      "source": [
        "num1=int(input(\"enter a number:\"))\n",
        "num2=int(input(\"enter a second number:\"))\n",
        "num3=num1+num2\n",
        "print(num3)"
      ]
    },
    {
      "cell_type": "code",
      "source": [
        "num=int(input(\"enter a number:\"))\n",
        "result=num*2\n",
        "print(result)"
      ],
      "metadata": {
        "colab": {
          "base_uri": "https://localhost:8080/"
        },
        "id": "pofE0BTgI93j",
        "outputId": "bb455c9e-c616-4f27-82fd-550ddd3f4587"
      },
      "execution_count": null,
      "outputs": [
        {
          "output_type": "stream",
          "name": "stdout",
          "text": [
            "enter a number:33\n",
            "66\n"
          ]
        }
      ]
    },
    {
      "cell_type": "code",
      "source": [
        "import calendar\n",
        "year=int(input(\"enter year:\"))\n",
        "month=int(input(\"enter a month:\"))\n",
        "calendar=calendar.month(year,month)\n",
        "print(result)\n",
        "\n"
      ],
      "metadata": {
        "colab": {
          "base_uri": "https://localhost:8080/"
        },
        "id": "L6RwtdrPJdqf",
        "outputId": "b068387c-ca9b-4efb-bfba-f2a975488d8f"
      },
      "execution_count": null,
      "outputs": [
        {
          "output_type": "stream",
          "name": "stdout",
          "text": [
            "enter year:22\n",
            "enter a month:5\n",
            "66\n"
          ]
        }
      ]
    },
    {
      "cell_type": "code",
      "source": [
        "km=float(input(\"enter a number in km:\"))\n",
        "miles=0.62317*km\n",
        "print(miles)"
      ],
      "metadata": {
        "colab": {
          "base_uri": "https://localhost:8080/"
        },
        "id": "x-fPN2FkKrnI",
        "outputId": "16dfd1fe-060e-4f58-ef87-865109267b3d"
      },
      "execution_count": null,
      "outputs": [
        {
          "output_type": "stream",
          "name": "stdout",
          "text": [
            "enter a number in km:33\n",
            "20.564610000000002\n"
          ]
        }
      ]
    },
    {
      "cell_type": "code",
      "source": [
        "import  math\n",
        "num=int(input(\"enter a number:\"))\n",
        "result=math.sqrt(num)\n",
        "print(result)"
      ],
      "metadata": {
        "colab": {
          "base_uri": "https://localhost:8080/"
        },
        "id": "WgTrKxoqONaD",
        "outputId": "2b644b38-cd04-4804-b6f9-3a32c5488ca3"
      },
      "execution_count": null,
      "outputs": [
        {
          "output_type": "stream",
          "name": "stdout",
          "text": [
            "enter a number:44\n",
            "6.6332495807108\n"
          ]
        }
      ]
    },
    {
      "cell_type": "code",
      "source": [
        "base=float(input(\"enter a number here:\"))\n",
        "height=float(input(\"enter a number here:\"))\n",
        "area=1/2*base*height\n",
        "print(area )"
      ],
      "metadata": {
        "colab": {
          "base_uri": "https://localhost:8080/"
        },
        "id": "VWL4_zzIPGlU",
        "outputId": "1cfe1414-4cd3-413a-e5ac-bc3180b619fa"
      },
      "execution_count": null,
      "outputs": [
        {
          "output_type": "stream",
          "name": "stdout",
          "text": [
            "enter a number here:33\n",
            "enter a number here:44\n",
            "726.0\n"
          ]
        }
      ]
    },
    {
      "cell_type": "code",
      "source": [
        "def fibo (n):\n",
        "  if n<1:\n",
        "    return(1)\n",
        "  else:\n",
        "    return fibo (n-1)+fibo(n-2)\n",
        "  n=int(input(\"enter a number:\"))\n",
        "  if n<0:\n",
        "    print(\"enter a postive number:\")\n",
        "  else:\n",
        "      for i in range (n):\n",
        "         print(fibo(i))\n",
        "\n",
        "\n",
        "\n",
        "\n",
        "\n",
        "\n"
      ],
      "metadata": {
        "id": "uxb2-Ny2Pr9T"
      },
      "execution_count": null,
      "outputs": []
    },
    {
      "cell_type": "code",
      "source": [
        "n=int(input(\"enter a number here :\"))\n",
        "if n==1:\n",
        " print(\"it is not a prime number:\")\n",
        "elif num>1:\n",
        "  for i in range (2,num)\n",
        "if num%i==0:\n",
        "  print(\"it is not a prime number:\")\n",
        "  break\n",
        "else:\n",
        "  print(\"it is a prime number:\")\n",
        "else:\n",
        "  print(\"invalid input\")\n",
        "\n",
        "\n",
        "\n",
        "\n",
        "\n",
        ""
      ],
      "metadata": {
        "colab": {
          "base_uri": "https://localhost:8080/",
          "height": 130
        },
        "id": "83qPD-lSONzl",
        "outputId": "475acb2b-501d-4412-9dba-97cf80da0b42"
      },
      "execution_count": null,
      "outputs": [
        {
          "output_type": "error",
          "ename": "SyntaxError",
          "evalue": "ignored",
          "traceback": [
            "\u001b[0;36m  File \u001b[0;32m\"<ipython-input-20-ac68be23239c>\"\u001b[0;36m, line \u001b[0;32m5\u001b[0m\n\u001b[0;31m    for i in range (2,num)\u001b[0m\n\u001b[0m                          ^\u001b[0m\n\u001b[0;31mSyntaxError\u001b[0m\u001b[0;31m:\u001b[0m expected ':'\n"
          ]
        }
      ]
    }
  ]
}